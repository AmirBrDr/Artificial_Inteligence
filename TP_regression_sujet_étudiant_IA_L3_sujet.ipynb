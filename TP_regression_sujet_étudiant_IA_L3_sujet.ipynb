{
  "cells": [
    {
      "cell_type": "markdown",
      "metadata": {
        "id": "5yIWtVHIkdXm"
      },
      "source": [
        "# La régression linéaire\n",
        "\n",
        "\n",
        "## Régression linéaire\n",
        "En statistique, la régression linéaire est une approche linéaire de la\n",
        "modélisation de la relation entre une variable expliquée et une ou\n",
        "plusieurs variables explicatives (covariables). Dans le cas d'une seule variable explicative, on parle de régression linéaire simple. Pour plus d'une variable explicative (indépendante), le processus est appelé régression linéaire\n",
        "multiple. Nous allons traiter la régression linéaire simple dans ce\n",
        "tutoriel.\n",
        "Soit **X** la variable explicative et **Y** la variable\n",
        "expliquée. Nous allons définir une relation linéaire entre ces deux\n",
        "variables comme suit :\n",
        "\n",
        "\\\\[ Y = aX + b \\\\]  \n",
        "![mxplusc](SlopeInterceptLineEqu.png)\n",
        "\n",
        "Voici l'équation d'une droite que vous avez étudiée au lycée. **a** est la pente de la droite et **b** est l'ordonnée à l'origine. Aujourd'hui, nous allons utiliser cette équation pour entraîner notre modèle avec un ensemble de données donné et prédire la valeur de **Y** pour toute valeur donnée de **X**.\n",
        "  \n",
        "Notre défi d'aujourd'hui est de déterminer la valeur de **a** et **b**, qui donnent l'erreur minimale pour l'ensemble de données donné. Pour ce faire, nous utiliserons d'abord la méthode des **moindre carrés**.  \n",
        "\n",
        "## Trouver l'erreur  \n",
        "Pour minimiser l'erreur, nous devons d'abord trouver un moyen de la calculer. Une **fonction de perte (loss)** en apprentissage automatique est simplement une mesure de la différence entre la valeur prédite et la valeur réelle.  \n",
        "Aujourd'hui, nous allons utiliser une **fonction de loss quadratique (L2)** pour calculer la perte ou l'erreur dans notre modèle. Elle peut être définie comme suit :\n",
        "  \n",
        "\\\\[ S(x) = \\sum_{i=1}^n (y_i - \\hat{y}_i)^2\\\\]  \n",
        "\n",
        "  \n",
        "Nous élevons  $(y - \\hat{y})$  au carré car, pour les points situés sous la ligne de\n",
        "régression, $(y - \\hat{y}\\$ sera négatif et nous ne voulons pas de\n",
        "valeurs négatives dans notre erreur totale (cela annulerait les valeurs\n",
        "positives).\n",
        "\n",
        "## Méthode des moindres carrés\n",
        "\n",
        "Maintenant que nous avons choisi la fonction de perte, la seule chose qui reste à faire est de la minimiser. Pour ce faire, il faut trouver la dérivée partielle de **S**, l'égaliser à 0, puis trouver une expression pour **a** et **b**.\n",
        "\n",
        "Posons $S=\\sum_{i=1}^n (y_i - \\hat{y_i})^2$ avec $\\hat{y_i}=ax_i +b$.\n",
        "Nous allons dériver **S** partiellement en fonction b et de a pour chercher son minimum (rappelons que **S** est convexe).\n",
        "<ins>Calcule de $b$ :</ins>\n",
        "\\\\[\\frac{\\partial}{\\partial b}\\sum_{i=1}^n (y_i - (a x_i + b ))^2 \\\\]\n",
        "\\\\[=\\frac{\\partial}{\\partial b}\\sum_{i=1}^n (y_i^2 -2y_iax_i - 2y_i b + (a x_i + b)^2)  \\\\]\n",
        "\\\\[=\\frac{\\partial}{\\partial b}\\sum_{i=1}^n (y_i^2 - 2 y_i a x_i - 2 y_i b + a^2x_i^2 + 2a x_i b + b^2) \\\\]\n",
        "\\\\[=\\sum_{i=1}^n (-2y_i + 2a x_i + 2b) \\\\]\n",
        "\\\\[=-2\\sum_{i=1}^n (y_i - (ax_i +b)) \\\\]\n",
        "On cherche $b$ tel que $\\frac{\\partial S}{\\partial b}=0$ et on fixe $a$ à une constante quelconque.\n",
        "\n",
        "\\\\[-2\\sum_{i=1}^n (y_i - (ax_i +b)) = 0 \\\\]\n",
        "\n",
        "\\\\[<=>\\sum_{i=1}^n (y_i - (ax_i +b)) = 0 \\\\]\n",
        "\\\\[<=>\\sum_{i=1}^n (y_i) - \\sum_{i=1}^n(ax_i) - nb = 0 \\\\]\n",
        "\\\\[<=>b = \\frac{\\sum_{i=1}^n y_i}{n} - \\frac{\\sum_{i=1}^n ax_i}{n}\\\\]\n",
        "On pose $\\bar{y}$ et $\\bar{x}$ les moyennes respectives de $y$ et $x$.\n",
        "\n",
        "\n",
        "\\\\[<=>b =  \\bar{y} - a \\bar{x} \\\\]\n",
        "\n",
        "<ins>Calcul de $a$ :</ins>\n",
        "\\\\[\\frac{\\partial}{\\partial a}\\sum_{i=1}^n (y_i - ( ax_i + \\bar{y} - a \\bar{x}) )^2 \\\\]\n",
        "On factorise par $(x_i- \\bar{x})$ et par $(y_i- \\bar{y})$ pour simplifier le développement <br>\n",
        "\\\\[<=>\\frac{\\partial}{\\partial a}\\sum_{i=1}^n (-a(x_i-\\bar{x})+(y_i-\\bar{y}))^2\\\\]\n",
        "\\\\[<=>\\frac{\\partial}{\\partial a}\\sum_{i=1}^n (a^2(x_i-\\bar{x})^2-2a(x_i-\\bar{x})(y_i-\\bar{y}))+(y_i-\\bar{y})^2)\\\\]\n",
        "\\\\[<=>\\sum_{i=1}^n(2(x_i-\\bar{x})^2 - 2(x_i-\\bar{x})(y_i-\\bar{y}))\\\\]\n",
        "On cherche $a$ tel que $\\frac{\\partial S}{\\partial a}=0$ <br>\n",
        "\\\\[<=> a\\sum_{i=1}^n (2a(x_i - \\bar{x})^2)- 2\\sum_{i=1}^n (x_i-\\bar{x})(y_i-\\bar{y}) = 0 \\\\]\n",
        "\\\\[<=> a = \\frac{\\sum_{i=1}^n(x_i-\\bar{x})(y_i-\\bar{y})}{\\sum_{i=1}^n (x_i - \\bar{x})^2}\\\\]\n",
        "Vous aurez peut-être identifié $\\sigma_{xy}=\\sum_{i=1}^n(x_i-\\bar{x})(y_i-\\bar{y})$ et $\\sigma_x^2=\\sum_{i=1}^n (x_i - \\bar{x})^2$.       \n",
        "\n",
        "\n",
        "<ins>on trouve donc pour $a$ et $b$ :</ins>\n",
        "\\\\[a = \\frac{\\sum_{i=1}^n (x_i - \\bar x)(y_i - \\bar y)}{\\sum_{i=1}^n (x_i - \\bar x)^2}\\\\]  \n",
        "  \n",
        "\\\\[b = \\bar y - a\\bar x\\\\]  \n",
        "  \n",
        "Ici, $\\bar x$ est la moyenne de toutes les valeurs de l'entrée **X** et $\\bar y$ est la moyenne de toutes les valeurs de la sortie souhaitée **Y**. Il s'agit de la méthode des moindres carrés.\n",
        "Nous allons maintenant l'implémenter en Python et faire des prédictions.  "
      ]
    },
    {
      "cell_type": "markdown",
      "metadata": {
        "id": "msrWf7BqkdXo"
      },
      "source": [
        "## Implementing the Model"
      ]
    },
    {
      "cell_type": "code",
      "execution_count": 1,
      "metadata": {
        "id": "CoHmNOHdkdXp"
      },
      "outputs": [],
      "source": [
        "# Making imports\n",
        "import pandas as pd\n",
        "import numpy as np\n",
        "import matplotlib.pyplot as plt\n",
        "plt.rcParams['figure.figsize'] = (7, 5)"
      ]
    },
    {
      "cell_type": "markdown",
      "source": [
        "Charger les données 'data.csv'"
      ],
      "metadata": {
        "id": "5Y5VPPRJPYBh"
      }
    },
    {
      "cell_type": "code",
      "source": [
        "from google.colab import files\n",
        "data_to_load = files.upload()"
      ],
      "metadata": {
        "id": "XS2zn2FyPT-g",
        "colab": {
          "base_uri": "https://localhost:8080/",
          "height": 69
        },
        "outputId": "26785cc3-3109-4369-ddae-4cf2b2440450"
      },
      "execution_count": 2,
      "outputs": [
        {
          "output_type": "display_data",
          "data": {
            "text/plain": [
              "<IPython.core.display.HTML object>"
            ],
            "text/html": [
              "\n",
              "     <input type=\"file\" id=\"files-6b499993-262c-451f-a676-b956394e9757\" name=\"files[]\" multiple disabled\n",
              "        style=\"border:none\" />\n",
              "     <output id=\"result-6b499993-262c-451f-a676-b956394e9757\">\n",
              "      Upload widget is only available when the cell has been executed in the\n",
              "      current browser session. Please rerun this cell to enable.\n",
              "      </output>\n",
              "      <script>// Copyright 2017 Google LLC\n",
              "//\n",
              "// Licensed under the Apache License, Version 2.0 (the \"License\");\n",
              "// you may not use this file except in compliance with the License.\n",
              "// You may obtain a copy of the License at\n",
              "//\n",
              "//      http://www.apache.org/licenses/LICENSE-2.0\n",
              "//\n",
              "// Unless required by applicable law or agreed to in writing, software\n",
              "// distributed under the License is distributed on an \"AS IS\" BASIS,\n",
              "// WITHOUT WARRANTIES OR CONDITIONS OF ANY KIND, either express or implied.\n",
              "// See the License for the specific language governing permissions and\n",
              "// limitations under the License.\n",
              "\n",
              "/**\n",
              " * @fileoverview Helpers for google.colab Python module.\n",
              " */\n",
              "(function(scope) {\n",
              "function span(text, styleAttributes = {}) {\n",
              "  const element = document.createElement('span');\n",
              "  element.textContent = text;\n",
              "  for (const key of Object.keys(styleAttributes)) {\n",
              "    element.style[key] = styleAttributes[key];\n",
              "  }\n",
              "  return element;\n",
              "}\n",
              "\n",
              "// Max number of bytes which will be uploaded at a time.\n",
              "const MAX_PAYLOAD_SIZE = 100 * 1024;\n",
              "\n",
              "function _uploadFiles(inputId, outputId) {\n",
              "  const steps = uploadFilesStep(inputId, outputId);\n",
              "  const outputElement = document.getElementById(outputId);\n",
              "  // Cache steps on the outputElement to make it available for the next call\n",
              "  // to uploadFilesContinue from Python.\n",
              "  outputElement.steps = steps;\n",
              "\n",
              "  return _uploadFilesContinue(outputId);\n",
              "}\n",
              "\n",
              "// This is roughly an async generator (not supported in the browser yet),\n",
              "// where there are multiple asynchronous steps and the Python side is going\n",
              "// to poll for completion of each step.\n",
              "// This uses a Promise to block the python side on completion of each step,\n",
              "// then passes the result of the previous step as the input to the next step.\n",
              "function _uploadFilesContinue(outputId) {\n",
              "  const outputElement = document.getElementById(outputId);\n",
              "  const steps = outputElement.steps;\n",
              "\n",
              "  const next = steps.next(outputElement.lastPromiseValue);\n",
              "  return Promise.resolve(next.value.promise).then((value) => {\n",
              "    // Cache the last promise value to make it available to the next\n",
              "    // step of the generator.\n",
              "    outputElement.lastPromiseValue = value;\n",
              "    return next.value.response;\n",
              "  });\n",
              "}\n",
              "\n",
              "/**\n",
              " * Generator function which is called between each async step of the upload\n",
              " * process.\n",
              " * @param {string} inputId Element ID of the input file picker element.\n",
              " * @param {string} outputId Element ID of the output display.\n",
              " * @return {!Iterable<!Object>} Iterable of next steps.\n",
              " */\n",
              "function* uploadFilesStep(inputId, outputId) {\n",
              "  const inputElement = document.getElementById(inputId);\n",
              "  inputElement.disabled = false;\n",
              "\n",
              "  const outputElement = document.getElementById(outputId);\n",
              "  outputElement.innerHTML = '';\n",
              "\n",
              "  const pickedPromise = new Promise((resolve) => {\n",
              "    inputElement.addEventListener('change', (e) => {\n",
              "      resolve(e.target.files);\n",
              "    });\n",
              "  });\n",
              "\n",
              "  const cancel = document.createElement('button');\n",
              "  inputElement.parentElement.appendChild(cancel);\n",
              "  cancel.textContent = 'Cancel upload';\n",
              "  const cancelPromise = new Promise((resolve) => {\n",
              "    cancel.onclick = () => {\n",
              "      resolve(null);\n",
              "    };\n",
              "  });\n",
              "\n",
              "  // Wait for the user to pick the files.\n",
              "  const files = yield {\n",
              "    promise: Promise.race([pickedPromise, cancelPromise]),\n",
              "    response: {\n",
              "      action: 'starting',\n",
              "    }\n",
              "  };\n",
              "\n",
              "  cancel.remove();\n",
              "\n",
              "  // Disable the input element since further picks are not allowed.\n",
              "  inputElement.disabled = true;\n",
              "\n",
              "  if (!files) {\n",
              "    return {\n",
              "      response: {\n",
              "        action: 'complete',\n",
              "      }\n",
              "    };\n",
              "  }\n",
              "\n",
              "  for (const file of files) {\n",
              "    const li = document.createElement('li');\n",
              "    li.append(span(file.name, {fontWeight: 'bold'}));\n",
              "    li.append(span(\n",
              "        `(${file.type || 'n/a'}) - ${file.size} bytes, ` +\n",
              "        `last modified: ${\n",
              "            file.lastModifiedDate ? file.lastModifiedDate.toLocaleDateString() :\n",
              "                                    'n/a'} - `));\n",
              "    const percent = span('0% done');\n",
              "    li.appendChild(percent);\n",
              "\n",
              "    outputElement.appendChild(li);\n",
              "\n",
              "    const fileDataPromise = new Promise((resolve) => {\n",
              "      const reader = new FileReader();\n",
              "      reader.onload = (e) => {\n",
              "        resolve(e.target.result);\n",
              "      };\n",
              "      reader.readAsArrayBuffer(file);\n",
              "    });\n",
              "    // Wait for the data to be ready.\n",
              "    let fileData = yield {\n",
              "      promise: fileDataPromise,\n",
              "      response: {\n",
              "        action: 'continue',\n",
              "      }\n",
              "    };\n",
              "\n",
              "    // Use a chunked sending to avoid message size limits. See b/62115660.\n",
              "    let position = 0;\n",
              "    do {\n",
              "      const length = Math.min(fileData.byteLength - position, MAX_PAYLOAD_SIZE);\n",
              "      const chunk = new Uint8Array(fileData, position, length);\n",
              "      position += length;\n",
              "\n",
              "      const base64 = btoa(String.fromCharCode.apply(null, chunk));\n",
              "      yield {\n",
              "        response: {\n",
              "          action: 'append',\n",
              "          file: file.name,\n",
              "          data: base64,\n",
              "        },\n",
              "      };\n",
              "\n",
              "      let percentDone = fileData.byteLength === 0 ?\n",
              "          100 :\n",
              "          Math.round((position / fileData.byteLength) * 100);\n",
              "      percent.textContent = `${percentDone}% done`;\n",
              "\n",
              "    } while (position < fileData.byteLength);\n",
              "  }\n",
              "\n",
              "  // All done.\n",
              "  yield {\n",
              "    response: {\n",
              "      action: 'complete',\n",
              "    }\n",
              "  };\n",
              "}\n",
              "\n",
              "scope.google = scope.google || {};\n",
              "scope.google.colab = scope.google.colab || {};\n",
              "scope.google.colab._files = {\n",
              "  _uploadFiles,\n",
              "  _uploadFilesContinue,\n",
              "};\n",
              "})(self);\n",
              "</script> "
            ]
          },
          "metadata": {}
        },
        {
          "output_type": "stream",
          "name": "stdout",
          "text": [
            "Saving data.csv to data.csv\n"
          ]
        }
      ]
    },
    {
      "cell_type": "code",
      "execution_count": 3,
      "metadata": {
        "scrolled": true,
        "id": "n-YOthQSkdXq",
        "outputId": "7e594c44-6cc1-4668-e971-ee421f0181fb",
        "colab": {
          "base_uri": "https://localhost:8080/",
          "height": 465
        }
      },
      "outputs": [
        {
          "output_type": "display_data",
          "data": {
            "text/plain": [
              "<Figure size 700x500 with 1 Axes>"
            ],
            "image/png": "[encoded data removed]"
          },
          "metadata": {}
        }
      ],
      "source": [
        "# Preprocessing Input data\n",
        "data = pd.read_csv('data.csv')\n",
        "X = data.iloc[:, 0]\n",
        "Y = data.iloc[:, 1]\n",
        "plt.scatter(X, Y)\n",
        "plt.xlabel(\"X-Axis\")\n",
        "plt.ylabel(\"Y-Axis\")\n",
        "plt.show()"
      ]
    },
    {
      "cell_type": "code",
      "execution_count": 4,
      "metadata": {
        "id": "rmsuLBoTkdXs",
        "outputId": "84e3229c-1903-4e09-c030-10a3693c79d9",
        "colab": {
          "base_uri": "https://localhost:8080/",
          "height": 204
        }
      },
      "outputs": [
        {
          "output_type": "execute_result",
          "data": {
            "text/plain": [
              "           X          Y\n",
              "0  53.426804  68.777596\n",
              "1  61.530358  62.562382\n",
              "2  47.475640  71.546632\n",
              "3  59.813208  87.230925\n",
              "4  55.142188  78.211518"
            ],
            "text/html": [
              "\n",
              "  <div id=\"df-b4885c7e-dcdd-47b1-9577-adf09a26d108\" class=\"colab-df-container\">\n",
              "    <div>\n",
              "<style scoped>\n",
              "    .dataframe tbody tr th:only-of-type {\n",
              "        vertical-align: middle;\n",
              "    }\n",
              "\n",
              "    .dataframe tbody tr th {\n",
              "        vertical-align: top;\n",
              "    }\n",
              "\n",
              "    .dataframe thead th {\n",
              "        text-align: right;\n",
              "    }\n",
              "</style>\n",
              "<table border=\"1\" class=\"dataframe\">\n",
              "  <thead>\n",
              "    <tr style=\"text-align: right;\">\n",
              "      <th></th>\n",
              "      <th>X</th>\n",
              "      <th>Y</th>\n",
              "    </tr>\n",
              "  </thead>\n",
              "  <tbody>\n",
              "    <tr>\n",
              "      <th>0</th>\n",
              "      <td>53.426804</td>\n",
              "      <td>68.777596</td>\n",
              "    </tr>\n",
              "    <tr>\n",
              "      <th>1</th>\n",
              "      <td>61.530358</td>\n",
              "      <td>62.562382</td>\n",
              "    </tr>\n",
              "    <tr>\n",
              "      <th>2</th>\n",
              "      <td>47.475640</td>\n",
              "      <td>71.546632</td>\n",
              "    </tr>\n",
              "    <tr>\n",
              "      <th>3</th>\n",
              "      <td>59.813208</td>\n",
              "      <td>87.230925</td>\n",
              "    </tr>\n",
              "    <tr>\n",
              "      <th>4</th>\n",
              "      <td>55.142188</td>\n",
              "      <td>78.211518</td>\n",
              "    </tr>\n",
              "  </tbody>\n",
              "</table>\n",
              "</div>\n",
              "    <div class=\"colab-df-buttons\">\n",
              "\n",
              "  <div class=\"colab-df-container\">\n",
              "    <button class=\"colab-df-convert\" onclick=\"convertToInteractive('df-b4885c7e-dcdd-47b1-9577-adf09a26d108')\"\n",
              "            title=\"Convert this dataframe to an interactive table.\"\n",
              "            style=\"display:none;\">\n",
              "\n",
              "  <svg xmlns=\"http://www.w3.org/2000/svg\" height=\"24px\" viewBox=\"0 -960 960 960\">\n",
              "    <path d=\"M120-120v-720h720v720H120Zm60-500h600v-160H180v160Zm220 220h160v-160H400v160Zm0 220h160v-160H400v160ZM180-400h160v-160H180v160Zm440 0h160v-160H620v160ZM180-180h160v-160H180v160Zm440 0h160v-160H620v160Z\"/>\n",
              "  </svg>\n",
              "    </button>\n",
              "\n",
              "  <style>\n",
              "    .colab-df-container {\n",
              "      display:flex;\n",
              "      gap: 12px;\n",
              "    }\n",
              "\n",
              "    .colab-df-convert {\n",
              "      background-color: #E8F0FE;\n",
              "      border: none;\n",
              "      border-radius: 50%;\n",
              "      cursor: pointer;\n",
              "      display: none;\n",
              "      fill: #1967D2;\n",
              "      height: 32px;\n",
              "      padding: 0 0 0 0;\n",
              "      width: 32px;\n",
              "    }\n",
              "\n",
              "    .colab-df-convert:hover {\n",
              "      background-color: #E2EBFA;\n",
              "      box-shadow: 0px 1px 2px rgba(60, 64, 67, 0.3), 0px 1px 3px 1px rgba(60, 64, 67, 0.15);\n",
              "      fill: #174EA6;\n",
              "    }\n",
              "\n",
              "    .colab-df-buttons div {\n",
              "      margin-bottom: 4px;\n",
              "    }\n",
              "\n",
              "    [theme=dark] .colab-df-convert {\n",
              "      background-color: #3B4455;\n",
              "      fill: #D2E3FC;\n",
              "    }\n",
              "\n",
              "    [theme=dark] .colab-df-convert:hover {\n",
              "      background-color: #434B5C;\n",
              "      box-shadow: 0px 1px 3px 1px rgba(0, 0, 0, 0.15);\n",
              "      filter: drop-shadow(0px 1px 2px rgba(0, 0, 0, 0.3));\n",
              "      fill: #FFFFFF;\n",
              "    }\n",
              "  </style>\n",
              "\n",
              "    <script>\n",
              "      const buttonEl =\n",
              "        document.querySelector('#df-b4885c7e-dcdd-47b1-9577-adf09a26d108 button.colab-df-convert');\n",
              "      buttonEl.style.display =\n",
              "        google.colab.kernel.accessAllowed ? 'block' : 'none';\n",
              "\n",
              "      async function convertToInteractive(key) {\n",
              "        const element = document.querySelector('#df-b4885c7e-dcdd-47b1-9577-adf09a26d108');\n",
              "        const dataTable =\n",
              "          await google.colab.kernel.invokeFunction('convertToInteractive',\n",
              "                                                    [key], {});\n",
              "        if (!dataTable) return;\n",
              "\n",
              "        const docLinkHtml = 'Like what you see? Visit the ' +\n",
              "          '<a target=\"_blank\" href=https://colab.research.google.com/notebooks/data_table.ipynb>data table notebook</a>'\n",
              "          + ' to learn more about interactive tables.';\n",
              "        element.innerHTML = '';\n",
              "        dataTable['output_type'] = 'display_data';\n",
              "        await google.colab.output.renderOutput(dataTable, element);\n",
              "        const docLink = document.createElement('div');\n",
              "        docLink.innerHTML = docLinkHtml;\n",
              "        element.appendChild(docLink);\n",
              "      }\n",
              "    </script>\n",
              "  </div>\n",
              "\n",
              "\n",
              "<div id=\"df-e46c7da2-fdec-4448-9479-cdb9e79e3894\">\n",
              "  <button class=\"colab-df-quickchart\" onclick=\"quickchart('df-e46c7da2-fdec-4448-9479-cdb9e79e3894')\"\n",
              "            title=\"Suggest charts\"\n",
              "            style=\"display:none;\">\n",
              "\n",
              "<svg xmlns=\"http://www.w3.org/2000/svg\" height=\"24px\"viewBox=\"0 0 24 24\"\n",
              "     width=\"24px\">\n",
              "    <g>\n",
              "        <path d=\"M19 3H5c-1.1 0-2 .9-2 2v14c0 1.1.9 2 2 2h14c1.1 0 2-.9 2-2V5c0-1.1-.9-2-2-2zM9 17H7v-7h2v7zm4 0h-2V7h2v10zm4 0h-2v-4h2v4z\"/>\n",
              "    </g>\n",
              "</svg>\n",
              "  </button>\n",
              "\n",
              "<style>\n",
              "  .colab-df-quickchart {\n",
              "      --bg-color: #E8F0FE;\n",
              "      --fill-color: #1967D2;\n",
              "      --hover-bg-color: #E2EBFA;\n",
              "      --hover-fill-color: #174EA6;\n",
              "      --disabled-fill-color: #AAA;\n",
              "      --disabled-bg-color: #DDD;\n",
              "  }\n",
              "\n",
              "  [theme=dark] .colab-df-quickchart {\n",
              "      --bg-color: #3B4455;\n",
              "      --fill-color: #D2E3FC;\n",
              "      --hover-bg-color: #434B5C;\n",
              "      --hover-fill-color: #FFFFFF;\n",
              "      --disabled-bg-color: #3B4455;\n",
              "      --disabled-fill-color: #666;\n",
              "  }\n",
              "\n",
              "  .colab-df-quickchart {\n",
              "    background-color: var(--bg-color);\n",
              "    border: none;\n",
              "    border-radius: 50%;\n",
              "    cursor: pointer;\n",
              "    display: none;\n",
              "    fill: var(--fill-color);\n",
              "    height: 32px;\n",
              "    padding: 0;\n",
              "    width: 32px;\n",
              "  }\n",
              "\n",
              "  .colab-df-quickchart:hover {\n",
              "    background-color: var(--hover-bg-color);\n",
              "    box-shadow: 0 1px 2px rgba(60, 64, 67, 0.3), 0 1px 3px 1px rgba(60, 64, 67, 0.15);\n",
              "    fill: var(--button-hover-fill-color);\n",
              "  }\n",
              "\n",
              "  .colab-df-quickchart-complete:disabled,\n",
              "  .colab-df-quickchart-complete:disabled:hover {\n",
              "    background-color: var(--disabled-bg-color);\n",
              "    fill: var(--disabled-fill-color);\n",
              "    box-shadow: none;\n",
              "  }\n",
              "\n",
              "  .colab-df-spinner {\n",
              "    border: 2px solid var(--fill-color);\n",
              "    border-color: transparent;\n",
              "    border-bottom-color: var(--fill-color);\n",
              "    animation:\n",
              "      spin 1s steps(1) infinite;\n",
              "  }\n",
              "\n",
              "  @keyframes spin {\n",
              "    0% {\n",
              "      border-color: transparent;\n",
              "      border-bottom-color: var(--fill-color);\n",
              "      border-left-color: var(--fill-color);\n",
              "    }\n",
              "    20% {\n",
              "      border-color: transparent;\n",
              "      border-left-color: var(--fill-color);\n",
              "      border-top-color: var(--fill-color);\n",
              "    }\n",
              "    30% {\n",
              "      border-color: transparent;\n",
              "      border-left-color: var(--fill-color);\n",
              "      border-top-color: var(--fill-color);\n",
              "      border-right-color: var(--fill-color);\n",
              "    }\n",
              "    40% {\n",
              "      border-color: transparent;\n",
              "      border-right-color: var(--fill-color);\n",
              "      border-top-color: var(--fill-color);\n",
              "    }\n",
              "    60% {\n",
              "      border-color: transparent;\n",
              "      border-right-color: var(--fill-color);\n",
              "    }\n",
              "    80% {\n",
              "      border-color: transparent;\n",
              "      border-right-color: var(--fill-color);\n",
              "      border-bottom-color: var(--fill-color);\n",
              "    }\n",
              "    90% {\n",
              "      border-color: transparent;\n",
              "      border-bottom-color: var(--fill-color);\n",
              "    }\n",
              "  }\n",
              "</style>\n",
              "\n",
              "  <script>\n",
              "    async function quickchart(key) {\n",
              "      const quickchartButtonEl =\n",
              "        document.querySelector('#' + key + ' button');\n",
              "      quickchartButtonEl.disabled = true;  // To prevent multiple clicks.\n",
              "      quickchartButtonEl.classList.add('colab-df-spinner');\n",
              "      try {\n",
              "        const charts = await google.colab.kernel.invokeFunction(\n",
              "            'suggestCharts', [key], {});\n",
              "      } catch (error) {\n",
              "        console.error('Error during call to suggestCharts:', error);\n",
              "      }\n",
              "      quickchartButtonEl.classList.remove('colab-df-spinner');\n",
              "      quickchartButtonEl.classList.add('colab-df-quickchart-complete');\n",
              "    }\n",
              "    (() => {\n",
              "      let quickchartButtonEl =\n",
              "        document.querySelector('#df-e46c7da2-fdec-4448-9479-cdb9e79e3894 button');\n",
              "      quickchartButtonEl.style.display =\n",
              "        google.colab.kernel.accessAllowed ? 'block' : 'none';\n",
              "    })();\n",
              "  </script>\n",
              "</div>\n",
              "\n",
              "    </div>\n",
              "  </div>\n"
            ],
            "application/vnd.google.colaboratory.intrinsic+json": {
              "type": "dataframe",
              "variable_name": "data",
              "summary": "{\n  \"name\": \"data\",\n  \"rows\": 99,\n  \"fields\": [\n    {\n      \"column\": \"X\",\n      \"properties\": {\n        \"dtype\": \"number\",\n        \"std\": 9.652462876493312,\n        \"min\": 25.128484647772304,\n        \"max\": 70.34607561504933,\n        \"num_unique_values\": 99,\n        \"samples\": [\n          50.13548548628612,\n          43.31828263186572,\n          49.23976534275376\n        ],\n        \"semantic_type\": \"\",\n        \"description\": \"\"\n      }\n    },\n    {\n      \"column\": \"Y\",\n      \"properties\": {\n        \"dtype\": \"number\",\n        \"std\": 16.21655807117453,\n        \"min\": 41.41288530370056,\n        \"max\": 118.59121730252248,\n        \"num_unique_values\": 99,\n        \"samples\": [\n          59.10883926769964,\n          58.569824717692875,\n          72.11183246961566\n        ],\n        \"semantic_type\": \"\",\n        \"description\": \"\"\n      }\n    }\n  ]\n}"
            }
          },
          "metadata": {},
          "execution_count": 4
        }
      ],
      "source": [
        "data.head()"
      ]
    },
    {
      "cell_type": "markdown",
      "metadata": {
        "id": "arVcLBvIkdXr"
      },
      "source": [
        "à vous\n",
        "<br>\n",
        "\n",
        "Implémenter le modèle de façon itérative pour trouver le coefficient a et l'intercept b. Vous devez obtenir a = 1.28 et b= 9.90"
      ]
    },
    {
      "cell_type": "markdown",
      "metadata": {
        "id": "-sOCMELVkdXu"
      },
      "source": [
        "Afficher sur un même graphique les données sur l axe des X/Y ainsi que la droite de régression obtenue. Vous devez obtenir le graphique suivant\n",
        "![image.png](data:image/png;base64,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)"
      ]
    },
    {
      "cell_type": "code",
      "source": [
        "X.shape\n",
        "print(np.average(X),np.mean(X))"
      ],
      "metadata": {
        "id": "y-ZEV_0DHez1",
        "outputId": "f2670cf3-e77b-457d-ef12-bca9ec0238ff",
        "colab": {
          "base_uri": "https://localhost:8080/"
        }
      },
      "execution_count": 19,
      "outputs": [
        {
          "output_type": "stream",
          "name": "stdout",
          "text": [
            "49.124563645318005 49.124563645318005\n"
          ]
        }
      ]
    },
    {
      "cell_type": "markdown",
      "source": [
        "En exécutant le code suivant, donner la MSE de vôtre modèle pour le dataset d'entraînement."
      ],
      "metadata": {
        "id": "CSgsrH6OPiyo"
      }
    },
    {
      "cell_type": "code",
      "execution_count": 21,
      "metadata": {
        "id": "xGl7oi6OkdXv",
        "outputId": "5cb47bcf-8874-42a1-b0d9-8c040fc47e6b",
        "colab": {
          "base_uri": "https://localhost:8080/",
          "height": 499
        }
      },
      "outputs": [
        {
          "output_type": "stream",
          "name": "stdout",
          "text": [
            "a:  [1.28735737] b:  [9.90860619]\n",
            "MSE:  107.47043700950907\n"
          ]
        },
        {
          "output_type": "display_data",
          "data": {
            "text/plain": [
              "<Figure size 700x500 with 1 Axes>"
            ],
            "image/png": "[encoded data removed]"
          },
          "metadata": {}
        }
      ],
      "source": [
        "from sklearn.metrics import mean_squared_error\n",
        "def a_calculator (X,Y) :\n",
        "  x_bar = np.mean(X)\n",
        "  y_bar = np.mean(Y)\n",
        "  s1 = 0\n",
        "  s2 = 0\n",
        "  i = 0\n",
        "  while i < len(X):\n",
        "    s1 += (X[i] - x_bar) * (Y[i] - y_bar)\n",
        "    s2 += (X[i] - x_bar)**2\n",
        "    i += 1\n",
        "  return s1/s2\n",
        "\n",
        "a = a_calculator(X,Y)\n",
        "b = np.average(Y) - a*np.average(X)\n",
        "print(\"a: \",a , \"b: \",b)\n",
        "Y_pred = a*X + b\n",
        "mse = mean_squared_error(Y, Y_pred)\n",
        "print(\"MSE: \", mse)\n",
        "\n",
        "plt.scatter(X, Y)\n",
        "plt.plot(X,Y_pred,'-r')\n",
        "plt.xlabel(\"X-Axis\")\n",
        "plt.ylabel(\"Y-Axis\")\n",
        "plt.show()\n"
      ]
    },
    {
      "cell_type": "markdown",
      "source": [],
      "metadata": {
        "id": "XpEmIEOIPpS7"
      }
    },
    {
      "cell_type": "markdown",
      "source": [
        "Affichez également la RMSE pour le dataset d'entraînement"
      ],
      "metadata": {
        "id": "ZF3MM3O0P4Am"
      }
    },
    {
      "cell_type": "code",
      "source": [
        "RMSE = np.sqrt(mse)\n",
        "print(\"RMSE: \", RMSE)"
      ],
      "metadata": {
        "id": "N81-d23oEXv8",
        "outputId": "e200e940-f629-4ac2-cfc8-29cac4989955",
        "colab": {
          "base_uri": "https://localhost:8080/"
        }
      },
      "execution_count": 13,
      "outputs": [
        {
          "output_type": "stream",
          "name": "stdout",
          "text": [
            "RMSE:  10.366794924638429\n"
          ]
        }
      ]
    },
    {
      "cell_type": "markdown",
      "metadata": {
        "id": "_I0BMQT2kdXy"
      },
      "source": [
        "# Régression linéaire en 6 lines de Python"
      ]
    },
    {
      "cell_type": "markdown",
      "metadata": {
        "id": "WwBqHyCrkdXy"
      },
      "source": [
        "   Il est possible de réaliser une régression linéaire avec de nombreuses\n",
        "librairies Python. Une des librairies les plus utilisées est Sklearn."
      ]
    },
    {
      "cell_type": "code",
      "execution_count": 14,
      "metadata": {
        "id": "x6y5U_VBkdXy"
      },
      "outputs": [],
      "source": [
        "import numpy as np\n",
        "import matplotlib.pyplot as plt\n",
        "import pandas as pd\n",
        "from sklearn.linear_model import LinearRegression"
      ]
    },
    {
      "cell_type": "markdown",
      "metadata": {
        "id": "3saBUTvAkdXy"
      },
      "source": [
        "Après avoir chargé les données, il faut convertir les données en liste (array) grâce à la lib Numpy"
      ]
    },
    {
      "cell_type": "code",
      "execution_count": 15,
      "metadata": {
        "id": "_HlFtZrekdXz"
      },
      "outputs": [],
      "source": [
        "data = pd.read_csv('data.csv')\n",
        "X = data.iloc[:, 0].values.reshape(-1, 1) # values converts it into a numpy array\n",
        "Y = data.iloc[:, 1].values.reshape(-1, 1) # -1 means that calculate the dimension of rows, but have 1 column\n",
        "linear_regressor = LinearRegression()\n",
        "linear_regressor.fit(X, Y)\n",
        "Y_pred = linear_regressor.predict(X)"
      ]
    },
    {
      "cell_type": "markdown",
      "metadata": {
        "id": "TS2PBbcUkdXz"
      },
      "source": [
        "À vous !\n",
        "Afficher le coefficient $a$ obtenu par la fonction LinearRegression()"
      ]
    },
    {
      "cell_type": "code",
      "source": [
        "a = linear_regressor.coef_\n",
        "print(\"a: \",a)"
      ],
      "metadata": {
        "id": "8KFvUgP1QG0W",
        "outputId": "1e0241fc-a3f8-4055-efee-31e699f22db1",
        "colab": {
          "base_uri": "https://localhost:8080/"
        }
      },
      "execution_count": 22,
      "outputs": [
        {
          "output_type": "stream",
          "name": "stdout",
          "text": [
            "a:  [[1.28735737]]\n"
          ]
        }
      ]
    },
    {
      "cell_type": "markdown",
      "metadata": {
        "id": "nwjRBEWMkdXz"
      },
      "source": [
        "Affichez également la MSE et la RMSE en complétant le code ci-dessous. Votre RMSE doit être égale à ~10.36"
      ]
    },
    {
      "cell_type": "code",
      "execution_count": 25,
      "metadata": {
        "id": "CmmGIZUtkdX0",
        "outputId": "5e46f8a5-88a5-4cd7-a2e9-d9d2ba6fb7cc",
        "colab": {
          "base_uri": "https://localhost:8080/"
        }
      },
      "outputs": [
        {
          "output_type": "stream",
          "name": "stdout",
          "text": [
            "MSE:  107.47043700950907\n",
            "RMSE:  10.366794924638429\n",
            "R2:  0.5871609494806325\n"
          ]
        }
      ],
      "source": [
        "from sklearn.metrics import r2_score\n",
        "\n",
        "mse = mean_squared_error(Y, Y_pred)\n",
        "print(\"MSE: \", mse)\n",
        "RMSE = np.sqrt(mse)\n",
        "print(\"RMSE: \", RMSE)\n",
        "score = r2_score(Y, Y_pred)\n",
        "print(\"R2: \",score)"
      ]
    },
    {
      "cell_type": "markdown",
      "metadata": {
        "id": "po2jmmBFkdX0"
      },
      "source": [
        "Afficher sur un même graphique les données sur l axe des X/Y ainsi que la droite de régression obtenue. Vous devez obrenir le graph suivant"
      ]
    },
    {
      "cell_type": "code",
      "source": [
        "plt.scatter(X, Y)\n",
        "plt.plot(X,Y_pred,'-r')\n",
        "plt.xlabel(\"X-Axis\")\n",
        "plt.ylabel(\"Y-Axis\")\n",
        "plt.show()"
      ],
      "metadata": {
        "id": "TD8TcTfxLD6W",
        "outputId": "2069d8b7-41c8-465a-98ee-4af2287695df",
        "colab": {
          "base_uri": "https://localhost:8080/",
          "height": 465
        }
      },
      "execution_count": 26,
      "outputs": [
        {
          "output_type": "display_data",
          "data": {
            "text/plain": [
              "<Figure size 700x500 with 1 Axes>"
            ],
            "image/png": "[encoded data removed]"
          },
          "metadata": {}
        }
      ]
    },
    {
      "cell_type": "markdown",
      "metadata": {
        "id": "ZpH8qe04kdX1"
      },
      "source": [
        "# La fonction OLS"
      ]
    },
    {
      "cell_type": "markdown",
      "metadata": {
        "id": "viS7r3zQkdX1"
      },
      "source": [
        "La régression linéaire LinearRegression() fait référence à la relation LINÉAIRE entre une ou plusieurs\n",
        "variables. La fonction LinearRegression() vous permet d'utiliser d'autres méthodes que celle des moindres carrés (que nous ne verrons pas dans ce cours). La fonction OLS (Ordinary Least Square) au contraire, impose la méthode des\n",
        "moindres carré. Utiliser la fonction LinearRegression()\n",
        "la méthode des moindres carrés vous donne des résultats similaire à la fonction OLS() mais cette dernière vous permet d'avoir davantage d'informations.\n",
        "\n",
        "\n",
        "\n",
        "Afficher le résultat du modèle avec la fonction summary()\n",
        "\n",
        "La syntaxe pour utiliser la fonction summary() est\n",
        "\n",
        "model_fit.summary()"
      ]
    },
    {
      "cell_type": "code",
      "execution_count": 28,
      "metadata": {
        "id": "sJM1CWyTkdX1",
        "outputId": "6baba4b0-b208-412d-a867-5e5c093f9c73",
        "colab": {
          "base_uri": "https://localhost:8080/",
          "height": 444
        }
      },
      "outputs": [
        {
          "output_type": "execute_result",
          "data": {
            "text/plain": [
              "<class 'statsmodels.iolib.summary.Summary'>\n",
              "\"\"\"\n",
              "                            OLS Regression Results                            \n",
              "==============================================================================\n",
              "Dep. Variable:                      y   R-squared:                       0.587\n",
              "Model:                            OLS   Adj. R-squared:                  0.583\n",
              "Method:                 Least Squares   F-statistic:                     138.0\n",
              "Date:                Mon, 10 Mar 2025   Prob (F-statistic):           2.43e-20\n",
              "Time:                        17:50:50   Log-Likelihood:                -372.00\n",
              "No. Observations:                  99   AIC:                             748.0\n",
              "Df Residuals:                      97   BIC:                             753.2\n",
              "Df Model:                           1                                         \n",
              "Covariance Type:            nonrobust                                         \n",
              "==============================================================================\n",
              "                 coef    std err          t      P>|t|      [0.025      0.975]\n",
              "------------------------------------------------------------------------------\n",
              "const          9.9086      5.486      1.806      0.074      -0.980      20.797\n",
              "x1             1.2874      0.110     11.746      0.000       1.070       1.505\n",
              "==============================================================================\n",
              "Omnibus:                        0.774   Durbin-Watson:                   2.206\n",
              "Prob(Omnibus):                  0.679   Jarque-Bera (JB):                0.895\n",
              "Skew:                           0.179   Prob(JB):                        0.639\n",
              "Kurtosis:                       2.703   Cond. No.                         261.\n",
              "==============================================================================\n",
              "\n",
              "Notes:\n",
              "[1] Standard Errors assume that the covariance matrix of the errors is correctly specified.\n",
              "\"\"\""
            ],
            "text/html": [
              "<table class=\"simpletable\">\n",
              "<caption>OLS Regression Results</caption>\n",
              "<tr>\n",
              "  <th>Dep. Variable:</th>            <td>y</td>        <th>  R-squared:         </th> <td>   0.587</td>\n",
              "</tr>\n",
              "<tr>\n",
              "  <th>Model:</th>                   <td>OLS</td>       <th>  Adj. R-squared:    </th> <td>   0.583</td>\n",
              "</tr>\n",
              "<tr>\n",
              "  <th>Method:</th>             <td>Least Squares</td>  <th>  F-statistic:       </th> <td>   138.0</td>\n",
              "</tr>\n",
              "<tr>\n",
              "  <th>Date:</th>             <td>Mon, 10 Mar 2025</td> <th>  Prob (F-statistic):</th> <td>2.43e-20</td>\n",
              "</tr>\n",
              "<tr>\n",
              "  <th>Time:</th>                 <td>17:50:50</td>     <th>  Log-Likelihood:    </th> <td> -372.00</td>\n",
              "</tr>\n",
              "<tr>\n",
              "  <th>No. Observations:</th>      <td>    99</td>      <th>  AIC:               </th> <td>   748.0</td>\n",
              "</tr>\n",
              "<tr>\n",
              "  <th>Df Residuals:</th>          <td>    97</td>      <th>  BIC:               </th> <td>   753.2</td>\n",
              "</tr>\n",
              "<tr>\n",
              "  <th>Df Model:</th>              <td>     1</td>      <th>                     </th>     <td> </td>   \n",
              "</tr>\n",
              "<tr>\n",
              "  <th>Covariance Type:</th>      <td>nonrobust</td>    <th>                     </th>     <td> </td>   \n",
              "</tr>\n",
              "</table>\n",
              "<table class=\"simpletable\">\n",
              "<tr>\n",
              "    <td></td>       <th>coef</th>     <th>std err</th>      <th>t</th>      <th>P>|t|</th>  <th>[0.025</th>    <th>0.975]</th>  \n",
              "</tr>\n",
              "<tr>\n",
              "  <th>const</th> <td>    9.9086</td> <td>    5.486</td> <td>    1.806</td> <td> 0.074</td> <td>   -0.980</td> <td>   20.797</td>\n",
              "</tr>\n",
              "<tr>\n",
              "  <th>x1</th>    <td>    1.2874</td> <td>    0.110</td> <td>   11.746</td> <td> 0.000</td> <td>    1.070</td> <td>    1.505</td>\n",
              "</tr>\n",
              "</table>\n",
              "<table class=\"simpletable\">\n",
              "<tr>\n",
              "  <th>Omnibus:</th>       <td> 0.774</td> <th>  Durbin-Watson:     </th> <td>   2.206</td>\n",
              "</tr>\n",
              "<tr>\n",
              "  <th>Prob(Omnibus):</th> <td> 0.679</td> <th>  Jarque-Bera (JB):  </th> <td>   0.895</td>\n",
              "</tr>\n",
              "<tr>\n",
              "  <th>Skew:</th>          <td> 0.179</td> <th>  Prob(JB):          </th> <td>   0.639</td>\n",
              "</tr>\n",
              "<tr>\n",
              "  <th>Kurtosis:</th>      <td> 2.703</td> <th>  Cond. No.          </th> <td>    261.</td>\n",
              "</tr>\n",
              "</table><br/><br/>Notes:<br/>[1] Standard Errors assume that the covariance matrix of the errors is correctly specified."
            ],
            "text/latex": "\\begin{center}\n\\begin{tabular}{lclc}\n\\toprule\n\\textbf{Dep. Variable:}    &        y         & \\textbf{  R-squared:         } &     0.587   \\\\\n\\textbf{Model:}            &       OLS        & \\textbf{  Adj. R-squared:    } &     0.583   \\\\\n\\textbf{Method:}           &  Least Squares   & \\textbf{  F-statistic:       } &     138.0   \\\\\n\\textbf{Date:}             & Mon, 10 Mar 2025 & \\textbf{  Prob (F-statistic):} &  2.43e-20   \\\\\n\\textbf{Time:}             &     17:50:50     & \\textbf{  Log-Likelihood:    } &   -372.00   \\\\\n\\textbf{No. Observations:} &          99      & \\textbf{  AIC:               } &     748.0   \\\\\n\\textbf{Df Residuals:}     &          97      & \\textbf{  BIC:               } &     753.2   \\\\\n\\textbf{Df Model:}         &           1      & \\textbf{                     } &             \\\\\n\\textbf{Covariance Type:}  &    nonrobust     & \\textbf{                     } &             \\\\\n\\bottomrule\n\\end{tabular}\n\\begin{tabular}{lcccccc}\n               & \\textbf{coef} & \\textbf{std err} & \\textbf{t} & \\textbf{P$> |$t$|$} & \\textbf{[0.025} & \\textbf{0.975]}  \\\\\n\\midrule\n\\textbf{const} &       9.9086  &        5.486     &     1.806  &         0.074        &       -0.980    &       20.797     \\\\\n\\textbf{x1}    &       1.2874  &        0.110     &    11.746  &         0.000        &        1.070    &        1.505     \\\\\n\\bottomrule\n\\end{tabular}\n\\begin{tabular}{lclc}\n\\textbf{Omnibus:}       &  0.774 & \\textbf{  Durbin-Watson:     } &    2.206  \\\\\n\\textbf{Prob(Omnibus):} &  0.679 & \\textbf{  Jarque-Bera (JB):  } &    0.895  \\\\\n\\textbf{Skew:}          &  0.179 & \\textbf{  Prob(JB):          } &    0.639  \\\\\n\\textbf{Kurtosis:}      &  2.703 & \\textbf{  Cond. No.          } &     261.  \\\\\n\\bottomrule\n\\end{tabular}\n%\\caption{OLS Regression Results}\n\\end{center}\n\nNotes: \\newline\n [1] Standard Errors assume that the covariance matrix of the errors is correctly specified."
          },
          "metadata": {},
          "execution_count": 28
        }
      ],
      "source": [
        "import statsmodels.api as sm\n",
        "X_OLS = sm.add_constant(X)\n",
        "\n",
        "model = sm.OLS(endog=Y, exog=X_OLS)\n",
        "model_fit = model.fit()\n",
        "model_fit.summary()"
      ]
    },
    {
      "cell_type": "markdown",
      "metadata": {
        "id": "4mti4aEXkdX3"
      },
      "source": [
        "# Régression polynomiale\n",
        "La régression linéaire univariée (une variable dépendante) et multivariée (plus d'une variable dépendante) dont nous avons parlé jusqu'à présent suppose toujours une relation linéaire entre les variables indépendantes et dépendantes. Dans le monde réel, il est très fréquent de disposer de données pour lesquelles il existe une relation non linéaire entre les variables indépendantes et dépendantes. Dans ce cas, nous pouvons utiliser la régression polynomiale en supposant que la relation entre la variable indépendante x et la (les) variable(s) dépendante(s) y est modélisée par un polynôme de nième degré en x."
      ]
    },
    {
      "cell_type": "code",
      "execution_count": 31,
      "metadata": {
        "scrolled": true,
        "id": "C87PSMTGkdX3",
        "outputId": "c01ff885-4fb4-4974-dbe0-8ab5740904fd",
        "colab": {
          "base_uri": "https://localhost:8080/",
          "height": 479
        }
      },
      "outputs": [
        {
          "output_type": "display_data",
          "data": {
            "text/plain": [
              "<Figure size 700x500 with 1 Axes>"
            ],
            "image/png": "[encoded data removed]"
          },
          "metadata": {}
        },
        {
          "output_type": "stream",
          "name": "stdout",
          "text": [
            "[[ 0.         -0.21464768  0.01531708]]\n",
            "[45.31775504]\n"
          ]
        }
      ],
      "source": [
        "from sklearn.preprocessing import PolynomialFeatures\n",
        "pr = PolynomialFeatures(degree = 2)\n",
        "X_poly = pr.fit_transform(X)\n",
        "pr.fit(X_poly, Y)\n",
        "lin_reg = LinearRegression()\n",
        "lin_reg.fit(X_poly, Y)\n",
        "plt.scatter(X, Y)\n",
        "plt.scatter(X, lin_reg.predict(pr.fit_transform(X)))\n",
        "plt.show()\n",
        "\n",
        "print(lin_reg.coef_)\n",
        "print(lin_reg.intercept_)\n"
      ]
    },
    {
      "cell_type": "markdown",
      "source": [
        "Donner l'équation du modèle"
      ],
      "metadata": {
        "id": "FMG1pQ8sbH8j"
      }
    },
    {
      "cell_type": "markdown",
      "metadata": {
        "id": "4fR796PCkdX3"
      },
      "source": [
        "# Données d'entraînement (train) et de test"
      ]
    },
    {
      "cell_type": "markdown",
      "metadata": {
        "id": "S4yaFMd7kdX3"
      },
      "source": [
        "Pour construire un bon modèle, nous devons d'abord diviser notre ensemble\n",
        "de données en un ensemble d'entraînement (ou données d'apprentissage) et un ensemble de test. Nous\n",
        "utiliserons notre ensemble d'entraînement pour former notre modèle,\n",
        "et nous utiliserons notre ensemble de test pour la validation du modèle.\n",
        "Pour ce faire, nous allons utiliser la fonction train_test_split de\n",
        "sklearn, et définir le paramètre d'entrée test_size à .2 afin que 20\\%\n",
        "des données soient assignées à l'ensemble de test et 80\\% des données\n",
        "soient assignées à l'ensemble d'entraînement.\n",
        "\n",
        "**Nous mettons de côté l'ensemble de test et ne le regardons qu'à la fin\n",
        "pour évaluer les performances du modèle sur des données non vues.\n",
        "\n",
        "Nous faisons cela afin de nous assurer que nous ne testons pas ce que le\n",
        "modèle a déjà appris. De cette façon, nous ne nous contentons pas de\n",
        "résoudre les données que nous connaissons et nous pouvons vérifier si notre\n",
        "modèle est applicable lorsque nous ne connaissons pas les valeurs de\n",
        "sortie. Par conséquent, nous pouvons également vérifier si le modèle n'est pas en overfitting.\n",
        "\n",
        "Nous fixons l'initialisation aléatoire de sorte que chaque fois que nous exécutons\n",
        "le code train_test_split, nous obtenons la même distribution de\n",
        "données. Ceci est important car le fait de garder la répartition des\n",
        "données constante nous permet de comparer les résultats de différentes\n",
        "sessions."
      ]
    },
    {
      "cell_type": "code",
      "execution_count": 70,
      "metadata": {
        "id": "oy0x1tUZkdX4",
        "outputId": "af1eb3c1-6b33-43f4-f716-a788a887f04c",
        "colab": {
          "base_uri": "https://localhost:8080/"
        }
      },
      "outputs": [
        {
          "output_type": "execute_result",
          "data": {
            "text/plain": [
              "69"
            ]
          },
          "metadata": {},
          "execution_count": 70
        }
      ],
      "source": [
        "from sklearn.model_selection import train_test_split\n",
        "\n",
        "X_train, X_test, Y_train, Y_test = train_test_split(X, Y,test_size=0.3,random_state=32)\n",
        "\n",
        "X_train.size"
      ]
    },
    {
      "cell_type": "markdown",
      "metadata": {
        "id": "aEr2JbSQkdX4"
      },
      "source": [
        "À vous\n",
        "\n",
        "Appliquer linear_regressor.fit() et LinearRegression() en polynomiale à votre trainset. Afficher la MSE, le R2 et la RMSE pour les données de test pour chaque modèle."
      ]
    },
    {
      "cell_type": "code",
      "source": [
        "pr = PolynomialFeatures(degree = 2)\n",
        "X_poly = pr.fit_transform(X_train)\n",
        "pr.fit(X_poly, Y_train)\n",
        "lin_reg = LinearRegression()\n",
        "lin_reg.fit(X_poly, Y_train)\n",
        "Y_pred =lin_reg.predict(X_poly)\n",
        "\n",
        "\n",
        "\n",
        "Y_pred = lin_reg.pre\n",
        "\n",
        "plt.scatter(X_train, Y_train)\n",
        "plt.scatter(X_train, Y_pred)\n",
        "plt.scatter(X_test, Y_test)\n",
        "plt.show()\n",
        "\n",
        "mse = mean_squared_error(Y_test, lin_reg.predict(pr.fit_transform(X_test)))\n",
        "print(\"MSE: \", mse)\n",
        "RMSE = np.sqrt(mse)\n",
        "print(\"RMSE: \", RMSE)\n",
        "score = r2_score(Y_test, lin_reg.predict(pr.fit_transform(X_test)))\n",
        "print(\"R2: \",score)"
      ],
      "metadata": {
        "id": "qFt3pO_FQbY-",
        "outputId": "f65c1288-0f49-48fa-ede0-94994eb1a09a",
        "colab": {
          "base_uri": "https://localhost:8080/",
          "height": 496
        }
      },
      "execution_count": 81,
      "outputs": [
        {
          "output_type": "display_data",
          "data": {
            "text/plain": [
              "<Figure size 700x500 with 1 Axes>"
            ],
            "image/png": "[encoded data removed]"
          },
          "metadata": {}
        },
        {
          "output_type": "stream",
          "name": "stdout",
          "text": [
            "MSE:  115.03817558887657\n",
            "RMSE:  10.725585093078912\n",
            "R2:  0.4440855511725438\n"
          ]
        }
      ]
    },
    {
      "cell_type": "markdown",
      "source": [
        "Comparer les deux modèles"
      ],
      "metadata": {
        "id": "6VPyUb3OQtWi"
      }
    },
    {
      "cell_type": "code",
      "source": [
        "for i in range(1,100):\n",
        "  X_train, X_test, Y_train, Y_test = train_test_split(X, Y,test_size=0.3,random_state=i)\n",
        "  pr = PolynomialFeatures(degree = 2)\n",
        "  X_poly = pr.fit_transform(X_train)\n",
        "  pr.fit(X_poly, Y_train)\n",
        "  lin_reg = LinearRegression()\n",
        "  lin_reg.fit(X_poly, Y_train)\n",
        "  Y_pred =lin_reg.predict(X_poly)\n",
        "  mse = mean_squared_error(Y_train,Y_pred)\n",
        "  print(\"MSE(\",i,\"): \", mse)\n",
        "  RMSE = np.sqrt(mse)\n",
        "  print(\"RMSE(\",i,\"): \", RMSE)\n",
        "  score = r2_score(Y_train, Y_pred)\n",
        "  print(\"R2(\",i,\"): \",score)\n"
      ],
      "metadata": {
        "id": "CdyPuR7LSFQu",
        "outputId": "2e1fc8fd-1bb0-4b5c-ee8c-a7e11c47761a",
        "colab": {
          "base_uri": "https://localhost:8080/"
        }
      },
      "execution_count": 82,
      "outputs": [
        {
          "output_type": "stream",
          "name": "stdout",
          "text": [
            "MSE( 1 ):  104.06262989056519\n",
            "RMSE( 1 ):  10.201109248045782\n",
            "R2( 1 ):  0.572598535248256\n",
            "MSE( 2 ):  109.65544303172216\n",
            "RMSE( 2 ):  10.471649489537079\n",
            "R2( 2 ):  0.5092339948190897\n",
            "MSE( 3 ):  113.90613260844592\n",
            "RMSE( 3 ):  10.672681603441841\n",
            "R2( 3 ):  0.6007731326329442\n",
            "MSE( 4 ):  103.0610874904281\n",
            "RMSE( 4 ):  10.151900683636937\n",
            "R2( 4 ):  0.5773815788296086\n",
            "MSE( 5 ):  97.70925579690169\n",
            "RMSE( 5 ):  9.884799228962706\n",
            "R2( 5 ):  0.6419578100079985\n",
            "MSE( 6 ):  94.49297830538627\n",
            "RMSE( 6 ):  9.720749883902284\n",
            "R2( 6 ):  0.597921403738883\n",
            "MSE( 7 ):  107.38746267445771\n",
            "RMSE( 7 ):  10.362792223838984\n",
            "R2( 7 ):  0.5928616491118739\n",
            "MSE( 8 ):  85.9997912921931\n",
            "RMSE( 8 ):  9.273607242718073\n",
            "R2( 8 ):  0.6431527744346939\n",
            "MSE( 9 ):  107.47075077961081\n",
            "RMSE( 9 ):  10.366810058046342\n",
            "R2( 9 ):  0.5301822720606909\n",
            "MSE( 10 ):  96.3930970550266\n",
            "RMSE( 10 ):  9.817998627776774\n",
            "R2( 10 ):  0.6117279185638789\n",
            "MSE( 11 ):  96.09757144312778\n",
            "RMSE( 11 ):  9.80293687846289\n",
            "R2( 11 ):  0.6050640845975381\n",
            "MSE( 12 ):  104.94393885840373\n",
            "RMSE( 12 ):  10.244214897121386\n",
            "R2( 12 ):  0.6263093162510451\n",
            "MSE( 13 ):  99.29677576732384\n",
            "RMSE( 13 ):  9.964776754515068\n",
            "R2( 13 ):  0.6003700817977395\n",
            "MSE( 14 ):  106.75505292887998\n",
            "RMSE( 14 ):  10.332233685359617\n",
            "R2( 14 ):  0.5738734774873306\n",
            "MSE( 15 ):  98.87402717151228\n",
            "RMSE( 15 ):  9.943541983192523\n",
            "R2( 15 ):  0.5873376060405582\n",
            "MSE( 16 ):  114.23821640657101\n",
            "RMSE( 16 ):  10.688227935751136\n",
            "R2( 16 ):  0.6071731398663751\n",
            "MSE( 17 ):  113.25772292782634\n",
            "RMSE( 17 ):  10.642261175512765\n",
            "R2( 17 ):  0.6055353784555544\n",
            "MSE( 18 ):  97.35000770288397\n",
            "RMSE( 18 ):  9.866610750550768\n",
            "R2( 18 ):  0.566425644363868\n",
            "MSE( 19 ):  121.71086397354135\n",
            "RMSE( 19 ):  11.032264680179738\n",
            "R2( 19 ):  0.5068755226305746\n",
            "MSE( 20 ):  85.7934691944123\n",
            "RMSE( 20 ):  9.262476407225678\n",
            "R2( 20 ):  0.7103191717009926\n",
            "MSE( 21 ):  92.70366643067173\n",
            "RMSE( 21 ):  9.628274322570569\n",
            "R2( 21 ):  0.6461765375219004\n",
            "MSE( 22 ):  103.36496747027988\n",
            "RMSE( 22 ):  10.166856321905994\n",
            "R2( 22 ):  0.6479504010224715\n",
            "MSE( 23 ):  114.76026399679826\n",
            "RMSE( 23 ):  10.712621714444987\n",
            "R2( 23 ):  0.5789716624305512\n",
            "MSE( 24 ):  98.50015725825125\n",
            "RMSE( 24 ):  9.924724543192685\n",
            "R2( 24 ):  0.5397052397387496\n",
            "MSE( 25 ):  120.83638535833896\n",
            "RMSE( 25 ):  10.992560455068645\n",
            "R2( 25 ):  0.5937910832711752\n",
            "MSE( 26 ):  96.81844582043544\n",
            "RMSE( 26 ):  9.8396364679004\n",
            "R2( 26 ):  0.6156892772795245\n",
            "MSE( 27 ):  94.09969093500548\n",
            "RMSE( 27 ):  9.70049951987038\n",
            "R2( 27 ):  0.5547164661458159\n",
            "MSE( 28 ):  103.33359463303186\n",
            "RMSE( 28 ):  10.165313307175134\n",
            "R2( 28 ):  0.5827179055238293\n",
            "MSE( 29 ):  107.69687956649695\n",
            "RMSE( 29 ):  10.377710709327802\n",
            "R2( 29 ):  0.6383368421093878\n",
            "MSE( 30 ):  102.25885427128641\n",
            "RMSE( 30 ):  10.11231201413833\n",
            "R2( 30 ):  0.5813238797250728\n",
            "MSE( 31 ):  95.07434671151665\n",
            "RMSE( 31 ):  9.750607504741264\n",
            "R2( 31 ):  0.5725138546907189\n",
            "MSE( 32 ):  102.29541192654382\n",
            "RMSE( 32 ):  10.114119434065618\n",
            "R2( 32 ):  0.6330231553163064\n",
            "MSE( 33 ):  114.65347637405668\n",
            "RMSE( 33 ):  10.707636357948315\n",
            "R2( 33 ):  0.611645933754071\n",
            "MSE( 34 ):  105.83498567454471\n",
            "RMSE( 34 ):  10.287613215636789\n",
            "R2( 34 ):  0.6155166165457544\n",
            "MSE( 35 ):  110.50847037314847\n",
            "RMSE( 35 ):  10.51230090765806\n",
            "R2( 35 ):  0.6013633223671426\n",
            "MSE( 36 ):  112.47135020234117\n",
            "RMSE( 36 ):  10.605251067388323\n",
            "R2( 36 ):  0.6198321621173271\n",
            "MSE( 37 ):  118.44857923356689\n",
            "RMSE( 37 ):  10.88340843824061\n",
            "R2( 37 ):  0.5639840292511675\n",
            "MSE( 38 ):  106.2541206927906\n",
            "RMSE( 38 ):  10.307963945066485\n",
            "R2( 38 ):  0.5642532267497117\n",
            "MSE( 39 ):  98.7740133067275\n",
            "RMSE( 39 ):  9.938511624319181\n",
            "R2( 39 ):  0.5909082227817113\n",
            "MSE( 40 ):  102.69335161447097\n",
            "RMSE( 40 ):  10.133772822323923\n",
            "R2( 40 ):  0.6028371333125816\n",
            "MSE( 41 ):  104.16747054595832\n",
            "RMSE( 41 ):  10.206246643402183\n",
            "R2( 41 ):  0.6223882682760258\n",
            "MSE( 42 ):  112.14702300983053\n",
            "RMSE( 42 ):  10.589949150483704\n",
            "R2( 42 ):  0.5675102533905552\n",
            "MSE( 43 ):  97.442815871635\n",
            "RMSE( 43 ):  9.871312773468127\n",
            "R2( 43 ):  0.5927838216365984\n",
            "MSE( 44 ):  112.71138024793626\n",
            "RMSE( 44 ):  10.616561601947039\n",
            "R2( 44 ):  0.5758422441491827\n",
            "MSE( 45 ):  94.57702552062608\n",
            "RMSE( 45 ):  9.725072005935282\n",
            "R2( 45 ):  0.6157984328093868\n",
            "MSE( 46 ):  106.7915708902567\n",
            "RMSE( 46 ):  10.334000720449787\n",
            "R2( 46 ):  0.5735439658058478\n",
            "MSE( 47 ):  91.77042988291848\n",
            "RMSE( 47 ):  9.579688402182947\n",
            "R2( 47 ):  0.6514212664409172\n",
            "MSE( 48 ):  106.38925155972356\n",
            "RMSE( 48 ):  10.314516545128209\n",
            "R2( 48 ):  0.6361122224919191\n",
            "MSE( 49 ):  89.47231074051335\n",
            "RMSE( 49 ):  9.458980428170541\n",
            "R2( 49 ):  0.6612627776636462\n",
            "MSE( 50 ):  120.66788324751218\n",
            "RMSE( 50 ):  10.984893410839824\n",
            "R2( 50 ):  0.5701658119190263\n",
            "MSE( 51 ):  107.87806295438054\n",
            "RMSE( 51 ):  10.3864364896908\n",
            "R2( 51 ):  0.5851084578476191\n",
            "MSE( 52 ):  106.83165010591735\n",
            "RMSE( 52 ):  10.33593973018019\n",
            "R2( 52 ):  0.6205403598161465\n",
            "MSE( 53 ):  106.26057958506277\n",
            "RMSE( 53 ):  10.308277236525159\n",
            "R2( 53 ):  0.5892296501697365\n",
            "MSE( 54 ):  107.05155517722484\n",
            "RMSE( 54 ):  10.346572146233981\n",
            "R2( 54 ):  0.6001007347818264\n",
            "MSE( 55 ):  111.58219927722598\n",
            "RMSE( 55 ):  10.56324757246681\n",
            "R2( 55 ):  0.5585870368799256\n",
            "MSE( 56 ):  116.74588050051888\n",
            "RMSE( 56 ):  10.804900763103698\n",
            "R2( 56 ):  0.5866181828230623\n",
            "MSE( 57 ):  92.76436703728638\n",
            "RMSE( 57 ):  9.631426012657023\n",
            "R2( 57 ):  0.6317852238958866\n",
            "MSE( 58 ):  98.43373546196804\n",
            "RMSE( 58 ):  9.921377699793917\n",
            "R2( 58 ):  0.5454715211776596\n",
            "MSE( 59 ):  104.96920895074224\n",
            "RMSE( 59 ):  10.245448206435004\n",
            "R2( 59 ):  0.6084990901839864\n",
            "MSE( 60 ):  103.83119740349302\n",
            "RMSE( 60 ):  10.189759437959909\n",
            "R2( 60 ):  0.6067654947763923\n",
            "MSE( 61 ):  88.94011848989109\n",
            "RMSE( 61 ):  9.43080688434935\n",
            "R2( 61 ):  0.6862718861313124\n",
            "MSE( 62 ):  89.91736239910023\n",
            "RMSE( 62 ):  9.482476596285395\n",
            "R2( 62 ):  0.6164138489296043\n",
            "MSE( 63 ):  111.22555936413099\n",
            "RMSE( 63 ):  10.546352893969127\n",
            "R2( 63 ):  0.5475506336206489\n",
            "MSE( 64 ):  103.23747400336006\n",
            "RMSE( 64 ):  10.160584333755617\n",
            "R2( 64 ):  0.595808972121275\n",
            "MSE( 65 ):  104.7363406232675\n",
            "RMSE( 65 ):  10.234077419253163\n",
            "R2( 65 ):  0.5841370198991276\n",
            "MSE( 66 ):  100.9521172547876\n",
            "RMSE( 66 ):  10.047493083092299\n",
            "R2( 66 ):  0.6170895042696941\n",
            "MSE( 67 ):  93.54530486807244\n",
            "RMSE( 67 ):  9.67188217815294\n",
            "R2( 67 ):  0.609171634836129\n",
            "MSE( 68 ):  102.12870513801539\n",
            "RMSE( 68 ):  10.105874783412636\n",
            "R2( 68 ):  0.5636662527586814\n",
            "MSE( 69 ):  107.19099479048843\n",
            "RMSE( 69 ):  10.35330839830865\n",
            "R2( 69 ):  0.5550443178664196\n",
            "MSE( 70 ):  108.50778542841041\n",
            "RMSE( 70 ):  10.416707033818817\n",
            "R2( 70 ):  0.5608578217575625\n",
            "MSE( 71 ):  96.59405615126869\n",
            "RMSE( 71 ):  9.82822751828979\n",
            "R2( 71 ):  0.584863056765577\n",
            "MSE( 72 ):  90.29294951840029\n",
            "RMSE( 72 ):  9.502260232092167\n",
            "R2( 72 ):  0.6326643093076861\n",
            "MSE( 73 ):  102.56007088142256\n",
            "RMSE( 73 ):  10.12719462049696\n",
            "R2( 73 ):  0.6532631193033713\n",
            "MSE( 74 ):  99.26727080020551\n",
            "RMSE( 74 ):  9.963296181495636\n",
            "R2( 74 ):  0.5758122760232963\n",
            "MSE( 75 ):  118.5269183180757\n",
            "RMSE( 75 ):  10.88700685762968\n",
            "R2( 75 ):  0.576895619771139\n",
            "MSE( 76 ):  113.79097652202918\n",
            "RMSE( 76 ):  10.667285339861738\n",
            "R2( 76 ):  0.5827835518946545\n",
            "MSE( 77 ):  91.85461995182028\n",
            "RMSE( 77 ):  9.584081591463017\n",
            "R2( 77 ):  0.5805482614151039\n",
            "MSE( 78 ):  93.0339328978318\n",
            "RMSE( 78 ):  9.645409939335487\n",
            "R2( 78 ):  0.6689759718650168\n",
            "MSE( 79 ):  106.8040682476995\n",
            "RMSE( 79 ):  10.334605374551053\n",
            "R2( 79 ):  0.5906579260715032\n",
            "MSE( 80 ):  118.91379385991591\n",
            "RMSE( 80 ):  10.904760146831103\n",
            "R2( 80 ):  0.5493120259682189\n",
            "MSE( 81 ):  114.92282382154193\n",
            "RMSE( 81 ):  10.720206332974284\n",
            "R2( 81 ):  0.5674952561360356\n",
            "MSE( 82 ):  103.8811516096109\n",
            "RMSE( 82 ):  10.192210339745294\n",
            "R2( 82 ):  0.6392613760336217\n",
            "MSE( 83 ):  96.45414363461015\n",
            "RMSE( 83 ):  9.821107047304299\n",
            "R2( 83 ):  0.6287004164812884\n",
            "MSE( 84 ):  103.06014520889578\n",
            "RMSE( 84 ):  10.15185427441193\n",
            "R2( 84 ):  0.6246504847254364\n",
            "MSE( 85 ):  89.12011957275308\n",
            "RMSE( 85 ):  9.440345310037822\n",
            "R2( 85 ):  0.5839815275291178\n",
            "MSE( 86 ):  110.42202018458288\n",
            "RMSE( 86 ):  10.508188244630132\n",
            "R2( 86 ):  0.6342552717864709\n",
            "MSE( 87 ):  97.68471390135738\n",
            "RMSE( 87 ):  9.883557755249745\n",
            "R2( 87 ):  0.6047153756949663\n",
            "MSE( 88 ):  97.4657133934349\n",
            "RMSE( 88 ):  9.872472506593011\n",
            "R2( 88 ):  0.5992785563213072\n",
            "MSE( 89 ):  106.37328136776713\n",
            "RMSE( 89 ):  10.313742355118588\n",
            "R2( 89 ):  0.592128963593141\n",
            "MSE( 90 ):  110.47607944021358\n",
            "RMSE( 90 ):  10.510760174231622\n",
            "R2( 90 ):  0.6071497731794914\n",
            "MSE( 91 ):  116.43954029988025\n",
            "RMSE( 91 ):  10.790715467469257\n",
            "R2( 91 ):  0.5779753276113033\n",
            "MSE( 92 ):  113.13758537315366\n",
            "RMSE( 92 ):  10.636615315651575\n",
            "R2( 92 ):  0.5573803734381914\n",
            "MSE( 93 ):  88.7835261004846\n",
            "RMSE( 93 ):  9.422501053355452\n",
            "R2( 93 ):  0.6282970830473857\n",
            "MSE( 94 ):  111.6421363568179\n",
            "RMSE( 94 ):  10.566084248992997\n",
            "R2( 94 ):  0.5537514696703436\n",
            "MSE( 95 ):  96.80907242956445\n",
            "RMSE( 95 ):  9.839160148588112\n",
            "R2( 95 ):  0.5992331314105468\n",
            "MSE( 96 ):  105.95505977656806\n",
            "RMSE( 96 ):  10.2934474194299\n",
            "R2( 96 ):  0.594481113228536\n",
            "MSE( 97 ):  100.07274069638986\n",
            "RMSE( 97 ):  10.003636373658823\n",
            "R2( 97 ):  0.5836743164748768\n",
            "MSE( 98 ):  103.38111329689934\n",
            "RMSE( 98 ):  10.167650333134954\n",
            "R2( 98 ):  0.5671595951432441\n",
            "MSE( 99 ):  112.99987041959899\n",
            "RMSE( 99 ):  10.630139717783534\n",
            "R2( 99 ):  0.607760087179229\n"
          ]
        }
      ]
    }
  ],
  "metadata": {
    "kernelspec": {
      "display_name": "Python 3",
      "language": "python",
      "name": "python3"
    },
    "language_info": {
      "codemirror_mode": {
        "name": "ipython",
        "version": 3
      },
      "file_extension": ".py",
      "mimetype": "text/x-python",
      "name": "python",
      "nbconvert_exporter": "python",
      "pygments_lexer": "ipython3",
      "version": "3.8.3"
    },
    "colab": {
      "provenance": []
    }
  },
  "nbformat": 4,
  "nbformat_minor": 0
}